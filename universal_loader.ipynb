{
 "cells": [
  {
   "cell_type": "code",
   "execution_count": 3,
   "metadata": {},
   "outputs": [
    {
     "name": "stdout",
     "output_type": "stream",
     "text": [
      "\n",
      "Downloading...\n",
      "Dataset already downloaded. Did not download twice.\n",
      "\n",
      "Extracting...\n",
      "Extracting successfully done to C:\\Users\\dis\\Desktop\\Workstation\\Jupyter\\Loaders\\UCI HAR Dataset.\n"
     ]
    }
   ],
   "source": [
    "import os\n",
    "from subprocess import call\n",
    "\n",
    "def dataset_loader(dataset_name)\n",
    "    names = {\"UCI HAR Dataset\":0, \"OpportunityUCIDataset\":1 }\n",
    "    return names[dataset_name]\n",
    "    \n",
    "    \n",
    "\n",
    "def load()\n",
    "    print(\"\")\n",
    "\n",
    "    print(\"Downloading...\")\n",
    "    if not os.path.exists(\"UCI HAR Dataset.zip\"):#\"OpportunityUCIDataset.zip\"\n",
    "        call(\n",
    "            'wget \"https://archive.ics.uci.edu/ml/machine-learning-databases/00240/UCI HAR Dataset.zip\"',\n",
    "            shell=True\n",
    "            #'wget \"https://archive.ics.uci.edu/ml/machine-learning-databases/00226/OpportunityUCIDataset.zip\"\n",
    "        )\n",
    "        print(\"Downloading done.\\n\")\n",
    "    else:\n",
    "        print(\"Dataset already downloaded. Did not download twice.\\n\")\n",
    "\n",
    "\n",
    "    print(\"Extracting...\")\n",
    "    extract_directory = os.path.abspath(\"UCI HAR Dataset\")\n",
    "    if not os.path.exists(extract_directory):\n",
    "        call(\n",
    "            'unzip -nq \"UCI HAR Dataset.zip\"',#'unzip -nq \"OpportunityUCIDataset.zip\"'\n",
    "            shell=True\n",
    "        )\n",
    "        print(\"Extracting successfully done to {}.\".format(extract_directory))\n",
    "    else:\n",
    "        print(\"Dataset already extracted. Did not extract twice.\\n\")"
   ]
  },
  {
   "cell_type": "code",
   "execution_count": null,
   "metadata": {
    "collapsed": true
   },
   "outputs": [],
   "source": []
  }
 ],
 "metadata": {
  "kernelspec": {
   "display_name": "Python 3",
   "language": "python",
   "name": "python3"
  },
  "language_info": {
   "codemirror_mode": {
    "name": "ipython",
    "version": 3
   },
   "file_extension": ".py",
   "mimetype": "text/x-python",
   "name": "python",
   "nbconvert_exporter": "python",
   "pygments_lexer": "ipython3",
   "version": "3.6.2"
  }
 },
 "nbformat": 4,
 "nbformat_minor": 2
}
