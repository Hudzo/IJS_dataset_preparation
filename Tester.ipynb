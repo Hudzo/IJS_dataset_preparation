{
 "cells": [
  {
   "cell_type": "code",
   "execution_count": 1,
   "metadata": {
    "scrolled": false
   },
   "outputs": [
    {
     "data": {
      "text/plain": [
       "array([['Subject', 'Activity', 'Trial', ..., 's5_acc_z39', 's5_gyro_x39',\n",
       "        's5_gyro_y39'],\n",
       "       ['1', 'Rest at Standing', '1', ..., '-560.0', '391.0', '-428.0'],\n",
       "       ['1', 'Rest at Standing', '1', ..., '-560.0', '274.0', '-410.0'],\n",
       "       ..., \n",
       "       ['20', 'Push', '4', ..., '-106.0', '-344.0', '-279.0'],\n",
       "       ['20', 'Push', '4', ..., '-643.0', '-264.0', '-119.0'],\n",
       "       ['20', 'Push', '4', ..., '-624.0', '-167.0', '151.0']],\n",
       "      dtype='<U32')"
      ]
     },
     "execution_count": 1,
     "metadata": {},
     "output_type": "execute_result"
    }
   ],
   "source": [
    "from loader import dataset_loader\n",
    "import WARD1_dataset_preprocesser as ward\n",
    "\n",
    "#dataset_loader(\"WARD1\")\n",
    "ward.preprocess(40,20)"
   ]
  },
  {
   "cell_type": "code",
   "execution_count": null,
   "metadata": {
    "collapsed": true
   },
   "outputs": [],
   "source": []
  },
  {
   "cell_type": "code",
   "execution_count": null,
   "metadata": {
    "collapsed": true
   },
   "outputs": [],
   "source": []
  },
  {
   "cell_type": "code",
   "execution_count": null,
   "metadata": {
    "collapsed": true
   },
   "outputs": [],
   "source": []
  }
 ],
 "metadata": {
  "kernelspec": {
   "display_name": "Python 3",
   "language": "python",
   "name": "python3"
  },
  "language_info": {
   "codemirror_mode": {
    "name": "ipython",
    "version": 3
   },
   "file_extension": ".py",
   "mimetype": "text/x-python",
   "name": "python",
   "nbconvert_exporter": "python",
   "pygments_lexer": "ipython3",
   "version": "3.6.2"
  }
 },
 "nbformat": 4,
 "nbformat_minor": 2
}
