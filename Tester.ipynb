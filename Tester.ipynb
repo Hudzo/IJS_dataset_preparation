{
 "cells": [
  {
   "cell_type": "code",
   "execution_count": 1,
   "metadata": {
    "scrolled": false
   },
   "outputs": [
    {
     "name": "stdout",
     "output_type": "stream",
     "text": [
      "\n",
      "Downloading...\n",
      "Dataset already downloaded. Did not download twice.\n",
      "\n",
      "Extracting...\n",
      "Dataset already extracted. Did not extract twice.\n",
      "\n",
      "Started preprocessing\n",
      "Subject 1\n",
      "^^^^^^^^^^^^^^^^^^^^^^^^^^^^^^^^^^^^^^^^^^^^^^\n",
      "Subject 2\n",
      "^^^^^^^^^^^^^^^^^^^^^^^^^^^^^^^^^^^^^^^^^^^^^^\n",
      "Subject 3\n",
      "^^^^^^^^^^^^^^^^^^^^^^^^^^^^^^^^^^^^^^^^^^^^^^\n",
      "Subject 4\n",
      "^^^^^^^^^^^^^^^^^^^^^^^^^^^^^^^^^^^^^^^^^^^^^^\n",
      "Subject 5\n",
      "^^^^^^^^^^^^^^^^^^^^^^^^^^^^^^^^^^^^^^^^^^^^^^\n",
      "Subject 6\n",
      "^^^^^^^^^^^^^^^^^^^^^^^^^^^^^^^^^^^^^^^^^^^^^^\n",
      "Subject 7\n",
      "^^^^^^^^^^^^^^^^^^^^^^^^^^^^^^^^^^^^^^^^^^^^^^\n",
      "Subject 8\n",
      "^^^^^^^^^^^^^^^^^^^^^^^^^^^^^^^^^^^^^^^^^^^^^^\n",
      "Subject 9\n",
      "^^^^^^^^^^^^^^^^^^^^^^^^^^^^^^^^^^^^^^^^^^^^^^\n",
      "28083\n",
      "(6377, 28084)\n",
      "(2832, 28083)\n",
      "Total time: 18.044021129608154\n"
     ]
    }
   ],
   "source": [
    "import time\n",
    "import pickle\n",
    "from loader import Loader\n",
    "\n",
    "import numpy as np\n",
    "\n",
    "\n",
    "t0 = time.time()\n",
    "\n",
    "\n",
    "load = Loader()\n",
    "\n",
    "#load.ward1_load()\n",
    "#frame = load.ward1_preprocess(40,20)\n",
    "#print(frame)\n",
    "#df = pickle.load(open('WARD1/processed_data.txt','rb'))\n",
    "\n",
    "\n",
    "#load.opportunity_load()\n",
    "#frame = load.opportunity_preprocess(320,120)\n",
    "#print(frame)\n",
    "#df = pickle.load(open('OpportunityUCIDataset/full_preprocessed_dataset.txt','rb'))\n",
    "\n",
    "\n",
    "#load.daily_sports_load()\n",
    "#frame = load.daily_sports_preprocess(25, 15)\n",
    "#print(frame)\n",
    "#df = pickle.load(open('Daily and sports activities/full_preprocessed.txt','rb'))\n",
    "\n",
    "\n",
    "#load.pamap2_load()\n",
    "#frame = load.pamap2_preprocess(540, 90)\n",
    "#print(frame)\n",
    "#df = pickle.load(open('PAMAP2/full_preprocessed.txt','rb'))\n",
    "\n",
    "# no loader for Skoda mini checkpoint !\n",
    "#frame = load.skoda_preprocess(400, 50)\n",
    "#print(frame)\n",
    "#df = pickle.load(open('Skoda Mini Checkpoint/full_preprocessed.txt','rb'))\n",
    "\n",
    "\n",
    "#print(df)\n",
    "\n",
    "\n",
    "t1 = time.time()\n",
    "print(\"Total time: \" + str(t1-t0))\n"
   ]
  },
  {
   "cell_type": "code",
   "execution_count": null,
   "metadata": {
    "collapsed": true
   },
   "outputs": [],
   "source": []
  },
  {
   "cell_type": "code",
   "execution_count": null,
   "metadata": {
    "collapsed": true
   },
   "outputs": [],
   "source": []
  }
 ],
 "metadata": {
  "kernelspec": {
   "display_name": "Python 3",
   "language": "python",
   "name": "python3"
  },
  "language_info": {
   "codemirror_mode": {
    "name": "ipython",
    "version": 3
   },
   "file_extension": ".py",
   "mimetype": "text/x-python",
   "name": "python",
   "nbconvert_exporter": "python",
   "pygments_lexer": "ipython3",
   "version": "3.6.2"
  }
 },
 "nbformat": 4,
 "nbformat_minor": 2
}
